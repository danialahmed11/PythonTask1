{
 "cells": [
  {
   "cell_type": "markdown",
   "id": "f144e7db-8a18-4478-b5d7-a52ffb1a6b19",
   "metadata": {},
   "source": [
    "# Answer 1"
   ]
  },
  {
   "cell_type": "code",
   "execution_count": 9,
   "id": "3aa00250-45dc-4807-8247-a3d3fee1e3e8",
   "metadata": {},
   "outputs": [],
   "source": [
    "salaries = ['20k','40k','50k','60k','35k','89k','40k']"
   ]
  },
  {
   "cell_type": "code",
   "execution_count": 2,
   "id": "08738543-b13f-42ff-a86b-9779d8d12437",
   "metadata": {},
   "outputs": [
    {
     "data": {
      "text/plain": [
       "7"
      ]
     },
     "execution_count": 2,
     "metadata": {},
     "output_type": "execute_result"
    }
   ],
   "source": [
    "len(salaries)"
   ]
  },
  {
   "cell_type": "markdown",
   "id": "e514aa38-559a-4b79-b7d6-6a6c5d3c28f7",
   "metadata": {},
   "source": [
    "# Answer 2"
   ]
  },
  {
   "cell_type": "code",
   "execution_count": 10,
   "id": "37cbda1b-5ba9-4b81-a091-c325a838a8bf",
   "metadata": {},
   "outputs": [],
   "source": [
    "salaries = ['20k','40k','50k','60k','35k','89k','40k']"
   ]
  },
  {
   "cell_type": "code",
   "execution_count": 4,
   "id": "62d91485-cf8b-4345-b258-19b99b657a45",
   "metadata": {},
   "outputs": [
    {
     "data": {
      "text/plain": [
       "'50k'"
      ]
     },
     "execution_count": 4,
     "metadata": {},
     "output_type": "execute_result"
    }
   ],
   "source": [
    "salaries[2]"
   ]
  },
  {
   "cell_type": "markdown",
   "id": "920d7320-d5e7-42ac-a523-d0d3a41114b1",
   "metadata": {},
   "source": [
    "# Answer 3"
   ]
  },
  {
   "cell_type": "code",
   "execution_count": 11,
   "id": "5e453b34-b9c3-4cd4-8b1f-449856dca96a",
   "metadata": {},
   "outputs": [],
   "source": [
    "salaries = ['20k','40k','50k','60k','35k','89k','40k']"
   ]
  },
  {
   "cell_type": "code",
   "execution_count": 12,
   "id": "6ad3a1da-daf2-4a6b-98a8-6a55d0a817b7",
   "metadata": {},
   "outputs": [
    {
     "data": {
      "text/plain": [
       "'40k'"
      ]
     },
     "execution_count": 12,
     "metadata": {},
     "output_type": "execute_result"
    }
   ],
   "source": [
    "salaries[-1]"
   ]
  },
  {
   "cell_type": "markdown",
   "id": "70168025-058b-48f8-8423-0cefce3906da",
   "metadata": {},
   "source": [
    "# Answer 4"
   ]
  },
  {
   "cell_type": "code",
   "execution_count": 13,
   "id": "6db36b55-e334-4323-87bc-63943dfa6d47",
   "metadata": {},
   "outputs": [],
   "source": [
    "salaries = ['20k','40k','50k','60k','35k','89k','40k']"
   ]
  },
  {
   "cell_type": "code",
   "execution_count": 14,
   "id": "85c442de-f48e-451d-8fbe-2363bd6de6bb",
   "metadata": {},
   "outputs": [
    {
     "data": {
      "text/plain": [
       "['50k', '60k', '35k']"
      ]
     },
     "execution_count": 14,
     "metadata": {},
     "output_type": "execute_result"
    }
   ],
   "source": [
    "salaries[2:5]"
   ]
  },
  {
   "cell_type": "markdown",
   "id": "1dda5887-8647-4b56-aefd-934c3b4b0b88",
   "metadata": {},
   "source": [
    "# Answer 5"
   ]
  },
  {
   "cell_type": "code",
   "execution_count": 15,
   "id": "c09b942b-4b91-4af8-b578-912dec89a7b0",
   "metadata": {},
   "outputs": [],
   "source": [
    "salaries = ['20k','40k','50k','60k','35k','89k','40k']"
   ]
  },
  {
   "cell_type": "code",
   "execution_count": 17,
   "id": "293ebafc-5b16-4deb-90e5-c3fd20add469",
   "metadata": {},
   "outputs": [],
   "source": [
    "salaries.append('100k')"
   ]
  },
  {
   "cell_type": "code",
   "execution_count": 18,
   "id": "0bf14406-0e9f-4b91-bd71-42721e23a0c3",
   "metadata": {},
   "outputs": [
    {
     "data": {
      "text/plain": [
       "['20k', '40k', '50k', '60k', '35k', '89k', '40k', '100k']"
      ]
     },
     "execution_count": 18,
     "metadata": {},
     "output_type": "execute_result"
    }
   ],
   "source": [
    "salaries"
   ]
  },
  {
   "cell_type": "markdown",
   "id": "b139127c-552b-4803-a691-234ed06746f0",
   "metadata": {},
   "source": [
    "# Answer 5"
   ]
  },
  {
   "cell_type": "code",
   "execution_count": 69,
   "id": "394bfbfd-4056-4ec0-8a8b-d3a1f52e7ab0",
   "metadata": {},
   "outputs": [],
   "source": [
    "salaries = ['20k','40k','50k','60k','35k','89k','40k']"
   ]
  },
  {
   "cell_type": "code",
   "execution_count": 70,
   "id": "49b4666e-03d2-487f-8c40-0798c6d30b6b",
   "metadata": {},
   "outputs": [],
   "source": [
    "addvalue = ['120k']"
   ]
  },
  {
   "cell_type": "code",
   "execution_count": 71,
   "id": "931b21bb-ad1b-4f34-9318-adb9ae0a967c",
   "metadata": {},
   "outputs": [],
   "source": [
    "salaries[:0] = addvalue"
   ]
  },
  {
   "cell_type": "code",
   "execution_count": 72,
   "id": "ee935d4f-48e6-49e7-8b5a-64f6c60321d4",
   "metadata": {},
   "outputs": [
    {
     "data": {
      "text/plain": [
       "['120k', '20k', '40k', '50k', '60k', '35k', '89k', '40k']"
      ]
     },
     "execution_count": 72,
     "metadata": {},
     "output_type": "execute_result"
    }
   ],
   "source": [
    "salaries"
   ]
  },
  {
   "cell_type": "markdown",
   "id": "3fd86637-3930-414d-b21c-624c88fce0ad",
   "metadata": {},
   "source": [
    "# Answer 6"
   ]
  },
  {
   "cell_type": "code",
   "execution_count": 19,
   "id": "84bbdd3b-4d5c-46f4-964b-f0da6e487f81",
   "metadata": {},
   "outputs": [],
   "source": [
    "salaries = ['20k','40k','50k','60k','35k','89k','40k']"
   ]
  },
  {
   "cell_type": "code",
   "execution_count": 20,
   "id": "f06f4f2a-5198-480b-9bd7-cab53ed8729b",
   "metadata": {},
   "outputs": [],
   "source": [
    "salaries[2] = '55k'"
   ]
  },
  {
   "cell_type": "code",
   "execution_count": 21,
   "id": "fb90a996-d61b-49cc-991d-7c9980a0c547",
   "metadata": {},
   "outputs": [
    {
     "data": {
      "text/plain": [
       "['20k', '40k', '55k', '60k', '35k', '89k', '40k']"
      ]
     },
     "execution_count": 21,
     "metadata": {},
     "output_type": "execute_result"
    }
   ],
   "source": [
    "salaries"
   ]
  },
  {
   "cell_type": "markdown",
   "id": "d4dacb15-35e2-4f03-84ca-f5563983463f",
   "metadata": {},
   "source": [
    "# Answer 7"
   ]
  },
  {
   "cell_type": "code",
   "execution_count": 22,
   "id": "e05c464a-412f-4780-b141-368d45e6e14a",
   "metadata": {},
   "outputs": [],
   "source": [
    "salaries = ['20k','40k','50k','60k','35k','89k','40k']"
   ]
  },
  {
   "cell_type": "code",
   "execution_count": 24,
   "id": "13d99f88-5732-4bd7-996e-b3113d213731",
   "metadata": {},
   "outputs": [
    {
     "data": {
      "text/plain": [
       "2"
      ]
     },
     "execution_count": 24,
     "metadata": {},
     "output_type": "execute_result"
    }
   ],
   "source": [
    "salaries.count('40k')"
   ]
  },
  {
   "cell_type": "markdown",
   "id": "1f3a2aa4-fa67-4c06-9a78-dc2f78aa802d",
   "metadata": {},
   "source": [
    "# Answer 8"
   ]
  },
  {
   "cell_type": "code",
   "execution_count": 25,
   "id": "9e0cb0c3-22a3-4ba1-910b-4cc448cb00d6",
   "metadata": {},
   "outputs": [],
   "source": [
    "salaries = ['20k','40k','50k','60k','35k','89k','40k']"
   ]
  },
  {
   "cell_type": "code",
   "execution_count": 26,
   "id": "6b8d8825-fb90-4ed5-9b9f-d51cde2f5e63",
   "metadata": {},
   "outputs": [],
   "source": [
    "salaries.insert(1, '100k')"
   ]
  },
  {
   "cell_type": "code",
   "execution_count": 27,
   "id": "3b153257-ce37-4840-9a83-4c209ac2d356",
   "metadata": {},
   "outputs": [
    {
     "data": {
      "text/plain": [
       "['20k', '100k', '40k', '50k', '60k', '35k', '89k', '40k']"
      ]
     },
     "execution_count": 27,
     "metadata": {},
     "output_type": "execute_result"
    }
   ],
   "source": [
    "salaries"
   ]
  },
  {
   "cell_type": "markdown",
   "id": "90c92e94-47fc-4bee-963a-eb3ecbc39a73",
   "metadata": {},
   "source": [
    "# Answer 9"
   ]
  },
  {
   "cell_type": "code",
   "execution_count": 28,
   "id": "a0d6552c-e86a-4749-9395-a6f94894815d",
   "metadata": {},
   "outputs": [],
   "source": [
    "salaries = ['20k','40k','50k','60k','35k','89k','40k']"
   ]
  },
  {
   "cell_type": "code",
   "execution_count": 29,
   "id": "9eba1f34-9fc0-4c17-81d8-73f6cf87a293",
   "metadata": {},
   "outputs": [],
   "source": [
    "salaries.reverse()"
   ]
  },
  {
   "cell_type": "code",
   "execution_count": 30,
   "id": "0754e670-087a-47fa-a412-0c00dd9684dd",
   "metadata": {},
   "outputs": [
    {
     "data": {
      "text/plain": [
       "['40k', '89k', '35k', '60k', '50k', '40k', '20k']"
      ]
     },
     "execution_count": 30,
     "metadata": {},
     "output_type": "execute_result"
    }
   ],
   "source": [
    "salaries"
   ]
  },
  {
   "cell_type": "markdown",
   "id": "5019d398-13ad-4a9b-8efb-67f54011e315",
   "metadata": {},
   "source": [
    "# Answer 10"
   ]
  },
  {
   "cell_type": "code",
   "execution_count": 31,
   "id": "ce42a7ea-c4a0-4590-8f47-1798d5c4f92a",
   "metadata": {},
   "outputs": [],
   "source": [
    "salaries = ['20k','40k','50k','60k','35k','89k','40k']"
   ]
  },
  {
   "cell_type": "code",
   "execution_count": 39,
   "id": "2cfd4156-7538-4744-b84b-bd5a3daeece8",
   "metadata": {},
   "outputs": [
    {
     "data": {
      "text/plain": [
       "['40k', '89k', '35k', '60k', '50k', '40k', '20k']"
      ]
     },
     "execution_count": 39,
     "metadata": {},
     "output_type": "execute_result"
    }
   ],
   "source": [
    "salaries[::-1 ]"
   ]
  },
  {
   "cell_type": "code",
   "execution_count": null,
   "id": "01586ed5-5427-4da7-81db-8ff35bec1195",
   "metadata": {},
   "outputs": [],
   "source": []
  },
  {
   "cell_type": "code",
   "execution_count": null,
   "id": "06e450fe-ddcd-4539-93fe-94ab5096aa6a",
   "metadata": {},
   "outputs": [],
   "source": []
  },
  {
   "cell_type": "code",
   "execution_count": null,
   "id": "8e3f7080-ae6b-4c79-ba4c-1b2e651a6319",
   "metadata": {},
   "outputs": [],
   "source": []
  }
 ],
 "metadata": {
  "kernelspec": {
   "display_name": "Python 3 (ipykernel)",
   "language": "python",
   "name": "python3"
  },
  "language_info": {
   "codemirror_mode": {
    "name": "ipython",
    "version": 3
   },
   "file_extension": ".py",
   "mimetype": "text/x-python",
   "name": "python",
   "nbconvert_exporter": "python",
   "pygments_lexer": "ipython3",
   "version": "3.12.7"
  }
 },
 "nbformat": 4,
 "nbformat_minor": 5
}
